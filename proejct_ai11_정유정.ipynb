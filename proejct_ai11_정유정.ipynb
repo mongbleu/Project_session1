{
  "nbformat": 4,
  "nbformat_minor": 0,
  "metadata": {
    "colab": {
      "name": "project1_first draft.ipynb",
      "private_outputs": true,
      "provenance": []
    },
    "kernelspec": {
      "name": "python3",
      "display_name": "Python 3"
    },
    "language_info": {
      "name": "python"
    }
  },
  "cells": [
    {
      "cell_type": "code",
      "execution_count": null,
      "metadata": {
        "id": "5coSYbitQKoF"
      },
      "outputs": [],
      "source": [
        "from google.colab import drive\n",
        "\n",
        "drive.mount('/content/drive')"
      ]
    },
    {
      "cell_type": "code",
      "source": [
        "import pandas as pd\n",
        "import numpy as np"
      ],
      "metadata": {
        "id": "Zw_DpbTtRyw6"
      },
      "execution_count": null,
      "outputs": []
    },
    {
      "cell_type": "code",
      "source": [
        "game = pd.read_csv('/content/drive/MyDrive/Colab Notebooks/project/vgames2.csv')"
      ],
      "metadata": {
        "id": "qY1xbwLCRnFV"
      },
      "execution_count": null,
      "outputs": []
    },
    {
      "cell_type": "code",
      "source": [
        "game.info()"
      ],
      "metadata": {
        "id": "CNEODIIMR6z2"
      },
      "execution_count": null,
      "outputs": []
    },
    {
      "cell_type": "code",
      "source": [
        "game.shape"
      ],
      "metadata": {
        "id": "pHaq4BWTSDYT"
      },
      "execution_count": null,
      "outputs": []
    },
    {
      "cell_type": "code",
      "source": [
        "game.isnull().sum()"
      ],
      "metadata": {
        "id": "xbVIDZaZSWzH"
      },
      "execution_count": null,
      "outputs": []
    },
    {
      "cell_type": "code",
      "source": [
        "game.groupby('Genre').count().index"
      ],
      "metadata": {
        "id": "F1rj2JhmSd6o"
      },
      "execution_count": null,
      "outputs": []
    },
    {
      "cell_type": "code",
      "source": [
        "game.groupby('Year').count().index"
      ],
      "metadata": {
        "id": "qxznQXVOU7nG"
      },
      "execution_count": null,
      "outputs": []
    },
    {
      "cell_type": "markdown",
      "source": [
        "### 데이터 전처리\n",
        "기본\n",
        "- 결측치 처리\n",
        "- 데이터 형변환\n",
        "- 행과 열 정리"
      ],
      "metadata": {
        "id": "zQWLzKQsazwB"
      }
    },
    {
      "cell_type": "code",
      "source": [
        "#year 결측치 처리"
      ],
      "metadata": {
        "id": "mjzK25KrfHEf"
      },
      "execution_count": null,
      "outputs": []
    },
    {
      "cell_type": "code",
      "source": [
        "game = game.drop(columns={'Unnamed: 0'},axis=1)"
      ],
      "metadata": {
        "id": "0pNFX9iVV_KU"
      },
      "execution_count": null,
      "outputs": []
    },
    {
      "cell_type": "code",
      "source": [
        "game.loc[game['Year'].isnull()]"
      ],
      "metadata": {
        "id": "Y11DcBYjY429"
      },
      "execution_count": null,
      "outputs": []
    },
    {
      "cell_type": "code",
      "source": [
        "year_list = list(game['Year'].fillna(0).astype('int32'))"
      ],
      "metadata": {
        "id": "fRS8TBNqWaoO"
      },
      "execution_count": null,
      "outputs": []
    },
    {
      "cell_type": "code",
      "source": [
        "for i in range(len(year_list)) :\n",
        "  if 0<year_list[i]<20 :\n",
        "    year_list[i] = 2000+year_list[i]\n",
        "  elif 20<=year_list[i]<100 :\n",
        "    year_list[i] = 1900+year_list[i]\n",
        "  else : continue"
      ],
      "metadata": {
        "id": "oIyR0SzFXXuG"
      },
      "execution_count": null,
      "outputs": []
    },
    {
      "cell_type": "code",
      "source": [
        "game['Year'] = pd.Series(year_list)"
      ],
      "metadata": {
        "id": "2RY_bVgYeSTj"
      },
      "execution_count": null,
      "outputs": []
    },
    {
      "cell_type": "code",
      "source": [
        "set(list(game['Year']))"
      ],
      "metadata": {
        "id": "WwmgAsAKefjH"
      },
      "execution_count": null,
      "outputs": []
    },
    {
      "cell_type": "code",
      "source": [
        "import matplotlib.pyplot as plt"
      ],
      "metadata": {
        "id": "xs5K1f-WNJbr"
      },
      "execution_count": null,
      "outputs": []
    },
    {
      "cell_type": "code",
      "source": [
        "def make_plot (s,l) :\n",
        "  tmp = [float(i.rstrip(l)) for i in game[s] if i[-1] == l]\n",
        "  print(tmp)\n",
        "  plt.figure(figsize=(30,10))\n",
        "  plt.hist(tmp)\n",
        "  plt.show()"
      ],
      "metadata": {
        "id": "73jQ4smpDFyG"
      },
      "execution_count": null,
      "outputs": []
    },
    {
      "cell_type": "code",
      "source": [
        "make_plot('NA_Sales','K')"
      ],
      "metadata": {
        "id": "amb46-mYjBT1"
      },
      "execution_count": null,
      "outputs": []
    },
    {
      "cell_type": "code",
      "source": [
        "make_plot('NA_Sales','M')"
      ],
      "metadata": {
        "id": "WmLqezA_lVUa"
      },
      "execution_count": null,
      "outputs": []
    },
    {
      "cell_type": "markdown",
      "source": [
        "위의 결과를 통해 'K'는 대체로 0~500사이의 숫자와 함께 나오고 'M'은 소숫점 자릿수와 함께 나온다. 알파벳이 붙지 않은채 나온 결과들도 대부분 소숫점 자릿수로 표현되는 것으로 보아 K에 1000을 나누어 단위를 M로 통일시키는 것이 좋을 것으로 판단하였다."
      ],
      "metadata": {
        "id": "c77hj05pmF9n"
      }
    },
    {
      "cell_type": "code",
      "source": [
        " #K.M을 삭제하고 스케일링 작업\n",
        " def convert_number (s) :\n",
        "   game.loc[game[s].str.contains('M'), s] = game.loc[game[s].str.contains('M'), s].str.replace('M','')\n",
        "   game.loc[game[s].str.contains('K'), s] = game.loc[game[s].str.contains('K'), s].str.replace('K','').astype('float').apply(lambda i : i/1000)\n",
        "   game[s] = game[s].astype('float')\n",
        "   game[s] = game[s]"
      ],
      "metadata": {
        "id": "BPGsqqT5nCgV"
      },
      "execution_count": null,
      "outputs": []
    },
    {
      "cell_type": "code",
      "source": [
        "convert_number('NA_Sales')"
      ],
      "metadata": {
        "id": "xlaKAmw0oQo_"
      },
      "execution_count": null,
      "outputs": []
    },
    {
      "cell_type": "code",
      "source": [
        "convert_number('JP_Sales'), convert_number('EU_Sales'), convert_number('Other_Sales')"
      ],
      "metadata": {
        "id": "cC1HtvDxrDqZ"
      },
      "execution_count": null,
      "outputs": []
    },
    {
      "cell_type": "code",
      "source": [
        "game.head(10)"
      ],
      "metadata": {
        "id": "dkvoTkUeuY23"
      },
      "execution_count": null,
      "outputs": []
    },
    {
      "cell_type": "code",
      "source": [
        "game.dtypes"
      ],
      "metadata": {
        "id": "RmgzQ9cEOZ9G"
      },
      "execution_count": null,
      "outputs": []
    },
    {
      "cell_type": "code",
      "source": [
        "\"\"\"#2. def isnull(x):\n",
        "  if x[-1] == 'K':\n",
        "    return x\n",
        "  return None\n",
        "\n",
        "tmp1_new = tmp1.apply(isnull)\n",
        "tmp1_new2 = tmp1_new.dropna()\"\"\"\n",
        "\n",
        "#1. tmp1_new = tmp1.apply(lambda x : None if x[-1] != 'M' else x)\n",
        "#왜 다 None이 출력될까?"
      ],
      "metadata": {
        "id": "Ezbtkz8MCC2B"
      },
      "execution_count": null,
      "outputs": []
    },
    {
      "cell_type": "markdown",
      "source": [
        "### 데이터 분석하기 1 : 나라마다 선호하는 게임이 다른가?\n",
        "- 귀무가설 : 나라와 선호하는 게임의 장르는 관련이 없다\n",
        "- 대안가설 : 나라와 선호하는 게임의 장르는 관련이 있다"
      ],
      "metadata": {
        "id": "kgDmF2z7tOl5"
      }
    },
    {
      "cell_type": "code",
      "source": [
        "game.head(10)"
      ],
      "metadata": {
        "id": "PsRwEa62tTuV"
      },
      "execution_count": null,
      "outputs": []
    },
    {
      "cell_type": "code",
      "source": [
        "#나라별 장르별 매출액 파이차트로 나타내기\n",
        "NA = game[['Genre','NA_Sales']]\n",
        "grouped_NA = NA.groupby('Genre').sum()"
      ],
      "metadata": {
        "id": "fXPVZ1qAOljP"
      },
      "execution_count": null,
      "outputs": []
    },
    {
      "cell_type": "code",
      "source": [
        "grouped_NA.index"
      ],
      "metadata": {
        "id": "2IOWwiIgWJvh"
      },
      "execution_count": null,
      "outputs": []
    },
    {
      "cell_type": "code",
      "source": [
        "EU = game[['Genre','EU_Sales']]\n",
        "grouped_EU = EU.groupby('Genre').sum()"
      ],
      "metadata": {
        "id": "Vsho7GwHSHPl"
      },
      "execution_count": null,
      "outputs": []
    },
    {
      "cell_type": "code",
      "source": [
        "JP = game[['Genre','JP_Sales']]\n",
        "grouped_JP = JP.groupby('Genre').sum()"
      ],
      "metadata": {
        "id": "ylnDgRHMSUe-"
      },
      "execution_count": null,
      "outputs": []
    },
    {
      "cell_type": "code",
      "source": [
        "Other = game[['Genre','Other_Sales']]\n",
        "grouped_Other = Other.groupby('Genre').sum()"
      ],
      "metadata": {
        "id": "zbwTWlJrdz51"
      },
      "execution_count": null,
      "outputs": []
    },
    {
      "cell_type": "code",
      "source": [
        "fig = plt.figure(figsize=(20,20))\n",
        "ax1 = fig.add_subplot(1,4,1)\n",
        "ax1.pie(grouped_NA['NA_Sales'],labels=grouped_NA.index,autopct='%.1f%%',wedgeprops={'width':0.7,'edgecolor':'w','linewidth':5},textprops={'size': 10},startangle=260)\n",
        "ax1.set_title('North America Sales(Genre)',fontsize='18',fontweight='bold')\n",
        "#plt.pie 의 output은 'patch', 'texts(patch_name)', percentage(pcts)이다\n",
        "\n",
        "ax2 = fig.add_subplot(1,4,2)\n",
        "ax2.pie(grouped_EU['EU_Sales'],labels=grouped_EU.index,autopct='%.1f%%',wedgeprops={'width':0.7,'edgecolor':'w','linewidth':5},textprops={'size': 10},startangle=260)\n",
        "ax2.set_title('EU Sales(Genre)',fontsize='18',fontweight='bold')\n",
        "\n",
        "ax3 = fig.add_subplot(1,4,3)\n",
        "ax3.pie(grouped_JP['JP_Sales'],labels=grouped_JP.index,autopct='%.1f%%',wedgeprops={'width':0.7,'edgecolor':'w','linewidth':5},textprops={'size': 10},startangle=260)\n",
        "ax3.set_title('JP Sales(Genre)',fontsize='18',fontweight='bold')\n",
        "\n",
        "ax4 = fig.add_subplot(1,4,4)\n",
        "ax4.pie(grouped_Other['Other_Sales'],labels=grouped_Other.index,autopct='%.1f%%',wedgeprops={'width':0.7,'edgecolor':'w','linewidth':5},textprops={'size': 10},startangle=260)\n",
        "ax4.set_title('Other Sales(Genre)',fontsize='18',fontweight='bold')\n",
        "\n",
        "plt.tight_layout()"
      ],
      "metadata": {
        "id": "5nZHXFHuVxka"
      },
      "execution_count": null,
      "outputs": []
    },
    {
      "cell_type": "code",
      "source": [
        "print(grouped_NA.sort_values(by='NA_Sales',ascending=False),end='\\n'*5)\n",
        "print(grouped_EU.sort_values(by='EU_Sales',ascending=False), end='\\n'*5)\n",
        "print(grouped_JP.sort_values(by='JP_Sales',ascending=False), end='\\n'*5)\n",
        "print(grouped_Other.sort_values(by='Other_Sales',ascending=False), end='\\n'*5)"
      ],
      "metadata": {
        "id": "WB5N6Mc8hwWq"
      },
      "execution_count": null,
      "outputs": []
    },
    {
      "cell_type": "markdown",
      "source": [
        "단순히 시각적으로 확인했을 때와 출고량이 높은 5개의 게임을 각 나라별로 비교했을 때,  북아메리카와 유럽, 기타국가의 판매량은 유사하지만, 일본의 판매량만 다른 나라와 확연한 차이를 보인다\n",
        "\n",
        "1. 북아메리카 출고량(매출기준) 상위 5위 :\n",
        "Action\n",
        "Sports\n",
        "Shooter\n",
        "Platform\n",
        "Misc\n",
        "\n",
        "2. 유럽 출고량(매출기준) 상위 5위 :\n",
        "Action\n",
        "Sports\n",
        "Shooter\n",
        "Racing\n",
        "Misc\n",
        "\n",
        "3. 기타국가 출고량(매출기준) 상위 5위 :\n",
        "Action\n",
        "Sports\n",
        "Shooter\n",
        "Racing\n",
        "Misc\n",
        "\n",
        "4. 일본 출고량(매출기준) 상위 5위 :\n",
        "Role-Playing \n",
        "Action   \n",
        "Sports \n",
        "Platform \n",
        "Misc"
      ],
      "metadata": {
        "id": "vA8ATT4CdUGn"
      }
    }
  ]
}